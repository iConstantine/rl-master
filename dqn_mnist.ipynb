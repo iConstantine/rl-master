{
 "cells": [
  {
   "cell_type": "code",
   "execution_count": 1,
   "metadata": {
    "collapsed": false
   },
   "outputs": [
    {
     "name": "stderr",
     "output_type": "stream",
     "text": [
      "Using TensorFlow backend.\n"
     ]
    }
   ],
   "source": [
    "from keras.datasets import mnist\n",
    "from keras.layers import *\n",
    "from keras.models import Model, Sequential\n",
    "from keras.utils.vis_utils import plot_model\n",
    "from keras.utils import np_utils\n",
    "import keras\n",
    "import keras.backend as K\n",
    "\n",
    "import numpy as np\n",
    "\n",
    "from sklearn.metrics import accuracy_score\n",
    "import sklearn\n",
    "\n",
    "import matplotlib.pyplot as plt\n",
    "from IPython.display import Image\n",
    "from tqdm import tqdm\n",
    "from collections import deque\n",
    "import seaborn as sns\n",
    "import random,time\n",
    "\n",
    "%matplotlib inline"
   ]
  },
  {
   "cell_type": "code",
   "execution_count": null,
   "metadata": {
    "collapsed": true
   },
   "outputs": [],
   "source": [
    "num_actions = len(set(y_test))\n",
    "image_w, image_h = X_train.shape[1:]\n",
    "\n",
    "X_train = X_train.reshape(*X_train.shape,1)\n",
    "X_test = X_test.reshape(*X_test.shape, 1)\n",
    "\n",
    "#normalization\n",
    "X_train = X_train/255.\n",
    "X_test = X_test/255."
   ]
  },
  {
   "cell_type": "code",
   "execution_count": 4,
   "metadata": {
    "collapsed": true
   },
   "outputs": [],
   "source": [
    "dummy_actions = np.ones((1, num_actions))"
   ]
  },
  {
   "cell_type": "code",
   "execution_count": 3,
   "metadata": {
    "collapsed": true
   },
   "outputs": [],
   "source": [
    "(X_train, y_train), (X_test, y_test) = mnist.load_data()"
   ]
  },
  {
   "cell_type": "code",
   "execution_count": 5,
   "metadata": {
    "collapsed": true
   },
   "outputs": [],
   "source": [
    "y_train_onehot = keras.utils.to_categorical(y_train, num_actions)\n",
    "\n",
    "y_test_onehot = keras.utils.to_categorical(y_test, num_actions)"
   ]
  },
  {
   "cell_type": "code",
   "execution_count": 6,
   "metadata": {
    "scrolled": true
   },
   "outputs": [
    {
     "data": {
      "text/plain": [
       "<matplotlib.image.AxesImage at 0x7fddb2b9b3c8>"
      ]
     },
     "execution_count": 6,
     "metadata": {},
     "output_type": "execute_result"
    },
    {
     "data": {
      "image/png": "[encoded data removed]",
      "text/plain": [
       "<matplotlib.figure.Figure at 0x7fddb5d06240>"
      ]
     },
     "metadata": {},
     "output_type": "display_data"
    }
   ],
   "source": [
    "plt.imshow(X_train[0].reshape(28,28),'gray')"
   ]
  },
  {
   "cell_type": "code",
   "execution_count": 7,
   "metadata": {
    "collapsed": true
   },
   "outputs": [],
   "source": [
    "class MnEnviroment(object):\n",
    "    def __init__(self, x,y):\n",
    "        self.train_X = x\n",
    "        self.train_Y = y\n",
    "        self.current_index = self._sample_index()\n",
    "        self.action_space = len(set(y)) - 1\n",
    "    def reset(self):\n",
    "        obs, _ = self.step(-1)\n",
    "        return obs\n",
    "    '''\n",
    "    action: 0-9 categori, -1 : start and no reward\n",
    "    return: next_state(image), reward\n",
    "    '''\n",
    "    def step(self, action):\n",
    "        if action==-1:\n",
    "            _c_index = self.current_index\n",
    "            self.current_index = self._sample_index()\n",
    "            return (self.train_X[_c_index], 0)\n",
    "        r = self.reward(action)\n",
    "        self.current_index = self._sample_index()\n",
    "        return self.train_X[self.current_index], r\n",
    "    \n",
    "    def reward(self, action):\n",
    "        c = self.train_Y[self.current_index]\n",
    "        #print(c)\n",
    "        return 1 if c==action else -1\n",
    "        \n",
    "    def sample_actions(self):\n",
    "        return random.randint(0, self.action_space)\n",
    "    \n",
    "    def _sample_index(self):\n",
    "        return random.randint(0, len(self.train_Y)-1)"
   ]
  },
  {
   "cell_type": "code",
   "execution_count": 8,
   "metadata": {
    "collapsed": true
   },
   "outputs": [],
   "source": [
    "env = MnEnviroment(X_train, y_train)"
   ]
  },
  {
   "cell_type": "code",
   "execution_count": 30,
   "metadata": {
    "collapsed": true
   },
   "outputs": [],
   "source": [
    "memory = deque(maxlen=512)\n",
    "replay_size = 64\n",
    "epoches = 2000\n",
    "pre_train_num = 256\n",
    "gamma = 0.  #every state is i.i.d\n",
    "alpha = 0.5\n",
    "forward = 512\n",
    "epislon_total = 2018 "
   ]
  },
  {
   "cell_type": "code",
   "execution_count": 13,
   "metadata": {
    "collapsed": true
   },
   "outputs": [],
   "source": [
    "def createDQN(input_width, input_height, actions_num):\n",
    "    img_input = Input(shape=(input_width, input_height,1),dtype='float32',name='image_inputs')\n",
    "    #conv1\n",
    "    conv1 = Conv2D(32,3,padding='same',activation='relu',kernel_initializer='he_normal')(img_input)\n",
    "    conv2 = Conv2D(64,3,strides=2,padding='same', activation='relu',kernel_initializer='he_normal')(conv1)\n",
    "    conv3 = Conv2D(64,3,strides=2,padding='same', activation='relu',kernel_initializer='he_normal')(conv2)\n",
    "    conv4 = Conv2D(128,3,strides=2,padding='same', activation='relu',kernel_initializer='he_normal')(conv3)\n",
    "    x = Flatten()(conv4)\n",
    "    x = Dense(128, activation='relu')(x)\n",
    "    outputs_q = Dense(actions_num, name='q_outputs')(x)\n",
    "    #one hot input\n",
    "    actions_input = Input((actions_num,),name='actions_input')\n",
    "    q_value= multiply([actions_input, outputs_q])\n",
    "    q_value = Lambda(lambda l:K.sum(l, axis=1,keepdims=True),name='q_value')(q_value)\n",
    "    \n",
    "    model = Model(inputs=[img_input, actions_input], outputs=q_value)\n",
    "    model.compile(loss='mse',optimizer='adam')\n",
    "    return model"
   ]
  },
  {
   "cell_type": "code",
   "execution_count": 14,
   "metadata": {
    "collapsed": true
   },
   "outputs": [],
   "source": [
    "actor_model = createDQN(image_w,image_h,num_actions) #用于决策\n",
    "critic_model = createDQN(image_w,image_h,num_actions) #用于训练\n",
    "actor_q_model = Model(inputs=actor_model.input, outputs=actor_model.get_layer('q_outputs').output)"
   ]
  },
  {
   "cell_type": "code",
   "execution_count": 15,
   "metadata": {
    "collapsed": true
   },
   "outputs": [],
   "source": [
    "def copy_critic_to_actor():\n",
    "    critic_weights = critic_model.get_weights()\n",
    "    actor_wegiths  = actor_model.get_weights()\n",
    "    for i in range(len(critic_weights)):\n",
    "        actor_wegiths[i] = critic_weights[i]\n",
    "    actor_model.set_weights(actor_wegiths)"
   ]
  },
  {
   "cell_type": "code",
   "execution_count": 16,
   "metadata": {
    "collapsed": true
   },
   "outputs": [],
   "source": [
    "def get_q_values(model_,state):\n",
    "    inputs_ = [state.reshape(1,*state.shape),dummy_actions]\n",
    "    qvalues = model_.predict(inputs_)\n",
    "    return qvalues[0]"
   ]
  },
  {
   "cell_type": "code",
   "execution_count": 103,
   "metadata": {
    "collapsed": true
   },
   "outputs": [],
   "source": [
    "def predict(model,states):\n",
    "    inputs_ = [states, np.ones(shape=(len(states),num_actions))]\n",
    "    qvalues = model.predict(inputs_)\n",
    "    return np.argmax(qvalues,axis=1)"
   ]
  },
  {
   "cell_type": "code",
   "execution_count": 27,
   "metadata": {
    "collapsed": true
   },
   "outputs": [],
   "source": [
    "def epsilon_calc(step, ep_min=0.01,ep_max=1,ep_decay=0.0001,esp_total = 1000):\n",
    "    return max(ep_min, ep_max -(ep_max - ep_min)*step/esp_total )"
   ]
  },
  {
   "cell_type": "code",
   "execution_count": 18,
   "metadata": {
    "collapsed": true
   },
   "outputs": [],
   "source": [
    "def epsilon_greedy(env, state, step, ep_min=0.01, ep_decay=0.0001,ep_total=1000):\n",
    "    epsilon = epsilon_calc(step, ep_min, 1, ep_decay,ep_total)\n",
    "    if np.random.rand()<epsilon:\n",
    "        return env.sample_actions(),0\n",
    "    qvalues = get_q_values(actor_q_model, state)\n",
    "    return np.argmax(qvalues), np.max(qvalues)"
   ]
  },
  {
   "cell_type": "code",
   "execution_count": 19,
   "metadata": {
    "collapsed": true
   },
   "outputs": [],
   "source": [
    "def pre_remember(pre_go = 30):\n",
    "    state = env.reset()\n",
    "    for i in range(pre_go):\n",
    "        rd_action = env.sample_actions()\n",
    "        next_state, reward = env.step(rd_action)\n",
    "        remember(state,rd_action,0,reward,next_state)\n",
    "        state = next_state"
   ]
  },
  {
   "cell_type": "code",
   "execution_count": 20,
   "metadata": {
    "collapsed": true
   },
   "outputs": [],
   "source": [
    "def remember(state,action,action_q,reward,next_state):\n",
    "    memory.append([state,action,action_q,reward,next_state])\n",
    "    \n",
    "def sample_ram(sample_num):\n",
    "    return np.array(random.sample(memory,sample_num))"
   ]
  },
  {
   "cell_type": "markdown",
   "metadata": {},
   "source": [
    "$$Q(s,a;\\theta_{critic})=(1-\\alpha)Q(s,a;\\theta_{actor})+\\alpha[R^{a}_{s}+\\gamma \\max_{a'}Q(s',a';\\theta_{actor})] $$"
   ]
  },
  {
   "cell_type": "code",
   "execution_count": 24,
   "metadata": {
    "collapsed": true
   },
   "outputs": [],
   "source": [
    "def replay():\n",
    "    if len(memory) < replay_size:\n",
    "        return \n",
    "    #从记忆中i.i.d采样\n",
    "    samples = sample_ram(replay_size)\n",
    "    #展开所有样本的相关数据\n",
    "    #这里next_states没用 因为和上一个state无关。\n",
    "    states, actions, old_q, rewards, next_states = zip(*samples)\n",
    "    states, actions, old_q, rewards = np.array(states),np.array(actions).reshape(-1,1),\\\n",
    "                                    np.array(old_q).reshape(-1,1),np.array(rewards).reshape(-1,1)\n",
    "   \n",
    "    actions_one_hot = np_utils.to_categorical(actions,num_actions)\n",
    "    #print(states.shape,actions.shape,old_q.shape,rewards.shape,actions_one_hot.shape)\n",
    "    #从actor获取下一个状态的q估计值 这里也没用 因为gamma=0 也就是不对bellman方程展开\n",
    "    #inputs_ = [next_states,np.ones((replay_size,num_actions))]\n",
    "    #qvalues = actor_q_model.predict(inputs_)\n",
    "    \n",
    "    #q = np.max(qvalues,axis=1,keepdims=True)\n",
    "    q = 0\n",
    "    q_estimate = (1-alpha)*old_q +  alpha *(rewards.reshape(-1,1) + gamma * q)\n",
    "    history = critic_model.fit([states,actions_one_hot],q_estimate,epochs=1,verbose=0)\n",
    "    return np.mean(history.history['loss'])"
   ]
  },
  {
   "cell_type": "code",
   "execution_count": null,
   "metadata": {
    "collapsed": true
   },
   "outputs": [],
   "source": [
    "\"{:2f}\".format(2.12)"
   ]
  },
  {
   "cell_type": "code",
   "execution_count": 53,
   "metadata": {
    "collapsed": true
   },
   "outputs": [],
   "source": [
    "memory.clear()\n",
    "total_rewards = 0\n",
    "reward_rec = []\n",
    "pre_remember(pre_train_num)\n",
    "every_copy_step = 128"
   ]
  },
  {
   "cell_type": "code",
   "execution_count": 54,
   "metadata": {},
   "outputs": [
    {
     "data": {
      "text/plain": [
       "(2000, 512, 2018, 256)"
      ]
     },
     "execution_count": 54,
     "metadata": {},
     "output_type": "execute_result"
    }
   ],
   "source": [
    "epoches, forward, epislon_total,pre_train_num"
   ]
  },
  {
   "cell_type": "code",
   "execution_count": null,
   "metadata": {},
   "outputs": [
    {
     "name": "stderr",
     "output_type": "stream",
     "text": [
      "\n",
      "\n",
      "\n",
      "\n",
      "  0%|          | 0/2000 [00:00<?, ?it/s]\u001b[A\u001b[A\u001b[A\u001b[A\n",
      "\n",
      "\n",
      "\u001b[A\u001b[A\u001b[A\n",
      "\n",
      "\n",
      "R:-428 L:0.0009 T:7 P:1.000:   0%|          | 0/2000 [00:07<?, ?it/s]\u001b[A\u001b[A\u001b[A\n",
      "\n",
      "\n",
      "R:-428 L:0.0009 T:7 P:1.000:   0%|          | 1/2000 [00:07<4:23:58,  7.92s/it]\u001b[A\u001b[A\u001b[A\n",
      "\n",
      "\n",
      "R:-392 L:0.0001 T:7 P:0.999:   0%|          | 1/2000 [00:15<8:41:28, 15.65s/it]\u001b[A\u001b[A\u001b[A\n",
      "\n",
      "\n",
      "R:-392 L:0.0001 T:7 P:0.999:   0%|          | 2/2000 [00:15<4:20:39,  7.83s/it]\u001b[A\u001b[A\u001b[A\n",
      "\n",
      "\n",
      "R:-398 L:0.0003 T:7 P:0.999:   0%|          | 2/2000 [00:22<6:19:02, 11.38s/it]\u001b[A\u001b[A\u001b[A\n",
      "\n",
      "\n",
      "R:-398 L:0.0003 T:7 P:0.999:   0%|          | 3/2000 [00:22<4:12:35,  7.59s/it]\u001b[A\u001b[A\u001b[A\n",
      "\n",
      "\n",
      "R:-392 L:0.0001 T:7 P:0.998:   0%|          | 3/2000 [00:30<5:40:06, 10.22s/it]\u001b[A\u001b[A\u001b[A\n",
      "\n",
      "\n",
      "R:-392 L:0.0001 T:7 P:0.998:   0%|          | 4/2000 [00:30<4:14:59,  7.66s/it]\u001b[A\u001b[A\u001b[A\n",
      "\n",
      "\n",
      "R:-410 L:0.0003 T:6 P:0.998:   0%|          | 4/2000 [00:37<5:12:16,  9.39s/it]\u001b[A\u001b[A\u001b[A\n",
      "\n",
      "\n",
      "R:-410 L:0.0003 T:6 P:0.998:   0%|          | 5/2000 [00:37<4:09:43,  7.51s/it]\u001b[A\u001b[A\u001b[A\n",
      "\n",
      "\n",
      "R:-400 L:0.0001 T:7 P:0.997:   0%|          | 5/2000 [00:44<4:56:27,  8.92s/it]\u001b[A\u001b[A\u001b[A\n",
      "\n",
      "\n",
      "R:-400 L:0.0001 T:7 P:0.997:   0%|          | 6/2000 [00:44<4:06:56,  7.43s/it]\u001b[A\u001b[A\u001b[A\n",
      "\n",
      "\n",
      "R:-404 L:0.0000 T:7 P:0.997:   0%|          | 6/2000 [00:52<4:48:29,  8.68s/it]\u001b[A\u001b[A\u001b[A\n",
      "\n",
      "\n",
      "R:-404 L:0.0000 T:7 P:0.997:   0%|          | 7/2000 [00:52<4:07:10,  7.44s/it]\u001b[A\u001b[A\u001b[A\n",
      "\n",
      "\n",
      "R:-426 L:0.0003 T:7 P:0.996:   0%|          | 7/2000 [00:59<4:41:11,  8.47s/it]\u001b[A\u001b[A\u001b[A\n",
      "\n",
      "\n",
      "R:-426 L:0.0003 T:7 P:0.996:   0%|          | 8/2000 [00:59<4:05:56,  7.41s/it]\u001b[A\u001b[A\u001b[A\n",
      "\n",
      "\n",
      "R:-392 L:0.0005 T:7 P:0.996:   0%|          | 8/2000 [01:06<4:35:26,  8.30s/it]\u001b[A\u001b[A\u001b[A\n",
      "\n",
      "\n",
      "R:-392 L:0.0005 T:7 P:0.996:   0%|          | 9/2000 [01:06<4:04:43,  7.38s/it]\u001b[A\u001b[A\u001b[A\n",
      "\n",
      "\n",
      "R:-372 L:0.0001 T:6 P:0.995:   0%|          | 9/2000 [01:13<4:30:30,  8.15s/it]\u001b[A\u001b[A\u001b[A\n",
      "\n",
      "\n",
      "R:-372 L:0.0001 T:6 P:0.995:   0%|          | 10/2000 [01:13<4:03:20,  7.34s/it]\u001b[A\u001b[A\u001b[A\n",
      "\n",
      "\n",
      "R:-404 L:0.0002 T:7 P:0.995:   0%|          | 10/2000 [01:21<4:29:08,  8.11s/it]\u001b[A\u001b[A\u001b[A\n",
      "\n",
      "\n",
      "R:-404 L:0.0002 T:7 P:0.995:   1%|          | 11/2000 [01:21<4:04:33,  7.38s/it]\u001b[A\u001b[A\u001b[A\n",
      "\n",
      "\n",
      "R:-390 L:0.0028 T:7 P:0.994:   1%|          | 11/2000 [01:28<4:26:14,  8.03s/it]\u001b[A\u001b[A\u001b[A\n",
      "\n",
      "\n",
      "R:-390 L:0.0028 T:7 P:0.994:   1%|          | 12/2000 [01:28<4:03:56,  7.36s/it]\u001b[A\u001b[A\u001b[A\n",
      "\n",
      "\n",
      "R:-408 L:0.0002 T:7 P:0.994:   1%|          | 12/2000 [01:35<4:24:03,  7.97s/it]\u001b[A\u001b[A\u001b[A\n",
      "\n",
      "\n",
      "R:-408 L:0.0002 T:7 P:0.994:   1%|          | 13/2000 [01:35<4:03:38,  7.36s/it]\u001b[A\u001b[A\u001b[A\n",
      "\n",
      "\n",
      "R:-420 L:0.0001 T:7 P:0.993:   1%|          | 13/2000 [01:43<4:23:05,  7.94s/it]\u001b[A\u001b[A\u001b[A\n",
      "\n",
      "\n",
      "R:-420 L:0.0001 T:7 P:0.993:   1%|          | 14/2000 [01:43<4:04:10,  7.38s/it]\u001b[A\u001b[A\u001b[A\n",
      "\n",
      "\n",
      "R:-408 L:0.0002 T:6 P:0.993:   1%|          | 14/2000 [01:50<4:20:20,  7.87s/it]\u001b[A\u001b[A\u001b[A\n",
      "\n",
      "\n",
      "R:-408 L:0.0002 T:6 P:0.993:   1%|          | 15/2000 [01:50<4:02:52,  7.34s/it]\u001b[A\u001b[A\u001b[A\n",
      "\n",
      "\n",
      "R:-408 L:0.0008 T:7 P:0.992:   1%|          | 15/2000 [01:57<4:19:28,  7.84s/it]\u001b[A\u001b[A\u001b[A\n",
      "\n",
      "\n",
      "R:-408 L:0.0008 T:7 P:0.992:   1%|          | 16/2000 [01:57<4:03:08,  7.35s/it]\u001b[A\u001b[A\u001b[A\n",
      "\n",
      "\n",
      "R:-406 L:0.0004 T:7 P:0.992:   1%|          | 16/2000 [02:04<4:17:37,  7.79s/it]\u001b[A\u001b[A\u001b[A\n",
      "\n",
      "\n",
      "R:-406 L:0.0004 T:7 P:0.992:   1%|          | 17/2000 [02:04<4:02:21,  7.33s/it]\u001b[A\u001b[A\u001b[A\n",
      "\n",
      "\n",
      "R:-404 L:0.0000 T:7 P:0.991:   1%|          | 17/2000 [02:12<4:16:42,  7.77s/it]\u001b[A\u001b[A\u001b[A\n",
      "\n",
      "\n",
      "R:-404 L:0.0000 T:7 P:0.991:   1%|          | 18/2000 [02:12<4:02:20,  7.34s/it]\u001b[A\u001b[A\u001b[A\n",
      "\n",
      "\n",
      "R:-398 L:0.0000 T:7 P:0.991:   1%|          | 18/2000 [02:19<4:15:15,  7.73s/it]\u001b[A\u001b[A\u001b[A\n",
      "\n",
      "\n",
      "R:-398 L:0.0000 T:7 P:0.991:   1%|          | 19/2000 [02:19<4:01:42,  7.32s/it]\u001b[A\u001b[A\u001b[A\n",
      "\n",
      "\n",
      "R:-390 L:0.0001 T:7 P:0.990:   1%|          | 19/2000 [02:26<4:14:36,  7.71s/it]\u001b[A\u001b[A\u001b[A\n",
      "\n",
      "\n",
      "R:-390 L:0.0001 T:7 P:0.990:   1%|          | 20/2000 [02:26<4:01:45,  7.33s/it]\u001b[A\u001b[A\u001b[A\n",
      "\n",
      "\n",
      "R:-402 L:0.0001 T:7 P:0.990:   1%|          | 20/2000 [02:33<4:13:30,  7.68s/it]\u001b[A\u001b[A\u001b[A\n",
      "\n",
      "\n",
      "R:-402 L:0.0001 T:7 P:0.990:   1%|          | 21/2000 [02:33<4:01:19,  7.32s/it]\u001b[A\u001b[A\u001b[A\n",
      "\n",
      "\n",
      "R:-392 L:0.0003 T:8 P:0.989:   1%|          | 21/2000 [02:41<4:14:04,  7.70s/it]\u001b[A\u001b[A\u001b[A\n",
      "\n",
      "\n",
      "R:-392 L:0.0003 T:8 P:0.989:   1%|          | 22/2000 [02:41<4:02:24,  7.35s/it]\u001b[A\u001b[A\u001b[A\n",
      "\n",
      "\n",
      "R:-386 L:0.0002 T:8 P:0.989:   1%|          | 22/2000 [02:49<4:14:27,  7.72s/it]\u001b[A\u001b[A\u001b[A\n",
      "\n",
      "\n",
      "R:-386 L:0.0002 T:8 P:0.989:   1%|          | 23/2000 [02:49<4:03:17,  7.38s/it]\u001b[A\u001b[A\u001b[A\n",
      "\n",
      "\n",
      "R:-408 L:0.0001 T:7 P:0.988:   1%|          | 23/2000 [02:57<4:14:17,  7.72s/it]\u001b[A\u001b[A\u001b[A\n",
      "\n",
      "\n",
      "R:-408 L:0.0001 T:7 P:0.988:   1%|          | 24/2000 [02:57<4:03:34,  7.40s/it]\u001b[A\u001b[A\u001b[A\n",
      "\n",
      "\n",
      "R:-414 L:0.0001 T:6 P:0.988:   1%|          | 24/2000 [03:04<4:13:05,  7.68s/it]\u001b[A\u001b[A\u001b[A\n",
      "\n",
      "\n",
      "R:-414 L:0.0001 T:6 P:0.988:   1%|▏         | 25/2000 [03:04<4:02:51,  7.38s/it]\u001b[A\u001b[A\u001b[A\n",
      "\n",
      "\n",
      "R:-384 L:0.0002 T:7 P:0.987:   1%|▏         | 25/2000 [03:11<4:12:09,  7.66s/it]\u001b[A\u001b[A\u001b[A\n",
      "\n",
      "\n",
      "R:-384 L:0.0002 T:7 P:0.987:   1%|▏         | 26/2000 [03:11<4:02:20,  7.37s/it]\u001b[A\u001b[A\u001b[A\n",
      "\n",
      "\n",
      "R:-424 L:0.0000 T:7 P:0.987:   1%|▏         | 26/2000 [03:19<4:11:57,  7.66s/it]\u001b[A\u001b[A\u001b[A\n",
      "\n",
      "\n",
      "R:-424 L:0.0000 T:7 P:0.987:   1%|▏         | 27/2000 [03:19<4:02:30,  7.37s/it]\u001b[A\u001b[A\u001b[A\n",
      "\n",
      "\n",
      "R:-380 L:0.0001 T:7 P:0.986:   1%|▏         | 27/2000 [03:26<4:11:34,  7.65s/it]\u001b[A\u001b[A\u001b[A\n",
      "\n",
      "\n",
      "R:-380 L:0.0001 T:7 P:0.986:   1%|▏         | 28/2000 [03:26<4:02:28,  7.38s/it]\u001b[A\u001b[A\u001b[A\n",
      "\n",
      "\n",
      "R:-378 L:0.0002 T:6 P:0.986:   1%|▏         | 28/2000 [03:33<4:10:33,  7.62s/it]\u001b[A\u001b[A\u001b[A\n",
      "\n",
      "\n",
      "R:-378 L:0.0002 T:6 P:0.986:   1%|▏         | 29/2000 [03:33<4:01:47,  7.36s/it]\u001b[A\u001b[A\u001b[A\n",
      "\n",
      "\n",
      "R:-404 L:0.0001 T:7 P:0.985:   1%|▏         | 29/2000 [03:40<4:10:14,  7.62s/it]\u001b[A\u001b[A\u001b[A\n",
      "\n",
      "\n",
      "R:-404 L:0.0001 T:7 P:0.985:   2%|▏         | 30/2000 [03:40<4:01:46,  7.36s/it]\u001b[A\u001b[A\u001b[A\n",
      "\n",
      "\n",
      "R:-410 L:0.0001 T:7 P:0.985:   2%|▏         | 30/2000 [03:48<4:09:32,  7.60s/it]\u001b[A\u001b[A\u001b[A\n",
      "\n",
      "\n",
      "R:-410 L:0.0001 T:7 P:0.985:   2%|▏         | 31/2000 [03:48<4:01:21,  7.35s/it]\u001b[A\u001b[A\u001b[A\n",
      "\n",
      "\n",
      "R:-380 L:0.0006 T:7 P:0.984:   2%|▏         | 31/2000 [03:55<4:09:32,  7.60s/it]\u001b[A\u001b[A\u001b[A\n",
      "\n",
      "\n",
      "R:-380 L:0.0006 T:7 P:0.984:   2%|▏         | 32/2000 [03:55<4:01:37,  7.37s/it]\u001b[A\u001b[A\u001b[A\n",
      "\n",
      "\n",
      "R:-426 L:0.0002 T:7 P:0.984:   2%|▏         | 32/2000 [04:02<4:08:53,  7.59s/it]\u001b[A\u001b[A\u001b[A\n",
      "\n",
      "\n",
      "R:-426 L:0.0002 T:7 P:0.984:   2%|▏         | 33/2000 [04:02<4:01:13,  7.36s/it]\u001b[A\u001b[A\u001b[A\n",
      "\n",
      "\n",
      "R:-394 L:0.0002 T:6 P:0.983:   2%|▏         | 33/2000 [04:09<4:08:10,  7.57s/it]\u001b[A\u001b[A\u001b[A\n",
      "\n",
      "\n",
      "R:-394 L:0.0002 T:6 P:0.983:   2%|▏         | 34/2000 [04:09<4:00:45,  7.35s/it]\u001b[A\u001b[A\u001b[A\n",
      "\n",
      "\n",
      "R:-414 L:0.0001 T:7 P:0.983:   2%|▏         | 34/2000 [04:16<4:07:39,  7.56s/it]\u001b[A\u001b[A\u001b[A\n",
      "\n",
      "\n",
      "R:-414 L:0.0001 T:7 P:0.983:   2%|▏         | 35/2000 [04:16<4:00:27,  7.34s/it]\u001b[A\u001b[A\u001b[A\n",
      "\n",
      "\n",
      "R:-414 L:0.0001 T:8 P:0.982:   2%|▏         | 35/2000 [04:25<4:08:03,  7.57s/it]\u001b[A\u001b[A\u001b[A\n",
      "\n",
      "\n",
      "R:-414 L:0.0001 T:8 P:0.982:   2%|▏         | 36/2000 [04:25<4:01:02,  7.36s/it]\u001b[A\u001b[A\u001b[A\n",
      "\n",
      "\n",
      "R:-364 L:0.0001 T:7 P:0.982:   2%|▏         | 36/2000 [04:32<4:07:59,  7.58s/it]\u001b[A\u001b[A\u001b[A\n",
      "\n",
      "\n",
      "R:-364 L:0.0001 T:7 P:0.982:   2%|▏         | 37/2000 [04:32<4:01:10,  7.37s/it]\u001b[A\u001b[A\u001b[A\n",
      "\n",
      "\n",
      "R:-394 L:0.0005 T:7 P:0.981:   2%|▏         | 37/2000 [04:40<4:07:42,  7.57s/it]\u001b[A\u001b[A\u001b[A\n",
      "\n",
      "\n",
      "R:-394 L:0.0005 T:7 P:0.981:   2%|▏         | 38/2000 [04:40<4:01:04,  7.37s/it]\u001b[A\u001b[A\u001b[A\n",
      "\n",
      "\n",
      "R:-382 L:0.0001 T:7 P:0.981:   2%|▏         | 38/2000 [04:47<4:07:13,  7.56s/it]\u001b[A\u001b[A\u001b[A\n",
      "\n",
      "\n",
      "R:-382 L:0.0001 T:7 P:0.981:   2%|▏         | 39/2000 [04:47<4:00:45,  7.37s/it]\u001b[A\u001b[A\u001b[A\n",
      "\n",
      "\n",
      "R:-412 L:0.0002 T:8 P:0.980:   2%|▏         | 39/2000 [04:55<4:07:33,  7.57s/it]\u001b[A\u001b[A\u001b[A\n",
      "\n",
      "\n",
      "R:-412 L:0.0002 T:8 P:0.980:   2%|▏         | 40/2000 [04:55<4:01:14,  7.39s/it]\u001b[A\u001b[A\u001b[A\n",
      "\n",
      "\n",
      "R:-374 L:0.0003 T:8 P:0.980:   2%|▏         | 40/2000 [05:03<4:08:06,  7.60s/it]\u001b[A\u001b[A\u001b[A\n",
      "\n",
      "\n",
      "R:-374 L:0.0003 T:8 P:0.980:   2%|▏         | 41/2000 [05:03<4:01:56,  7.41s/it]\u001b[A\u001b[A\u001b[A\n",
      "\n",
      "\n",
      "R:-402 L:0.0004 T:7 P:0.979:   2%|▏         | 41/2000 [05:11<4:07:58,  7.60s/it]\u001b[A\u001b[A\u001b[A\n",
      "\n",
      "\n",
      "R:-402 L:0.0004 T:7 P:0.979:   2%|▏         | 42/2000 [05:11<4:01:57,  7.41s/it]\u001b[A\u001b[A\u001b[A\n",
      "\n",
      "\n",
      "R:-402 L:0.0002 T:7 P:0.979:   2%|▏         | 42/2000 [05:18<4:07:33,  7.59s/it]\u001b[A\u001b[A\u001b[A\n",
      "\n",
      "\n",
      "R:-402 L:0.0002 T:7 P:0.979:   2%|▏         | 43/2000 [05:18<4:01:41,  7.41s/it]\u001b[A\u001b[A\u001b[A\n",
      "\n",
      "\n",
      "R:-400 L:0.0000 T:7 P:0.978:   2%|▏         | 43/2000 [05:25<4:07:03,  7.57s/it]\u001b[A\u001b[A\u001b[A\n",
      "\n",
      "\n",
      "R:-400 L:0.0000 T:7 P:0.978:   2%|▏         | 44/2000 [05:25<4:01:19,  7.40s/it]\u001b[A\u001b[A\u001b[A\n",
      "\n",
      "\n",
      "R:-410 L:0.0001 T:6 P:0.978:   2%|▏         | 44/2000 [05:32<4:06:25,  7.56s/it]\u001b[A\u001b[A\u001b[A\n",
      "\n",
      "\n",
      "R:-410 L:0.0001 T:6 P:0.978:   2%|▏         | 45/2000 [05:32<4:00:49,  7.39s/it]\u001b[A\u001b[A\u001b[A\n",
      "\n",
      "\n",
      "R:-382 L:0.0001 T:6 P:0.977:   2%|▏         | 45/2000 [05:39<4:05:49,  7.54s/it]\u001b[A\u001b[A\u001b[A\n",
      "\n",
      "\n",
      "R:-382 L:0.0001 T:6 P:0.977:   2%|▏         | 46/2000 [05:39<4:00:21,  7.38s/it]\u001b[A\u001b[A\u001b[A\n",
      "\n",
      "\n",
      "R:-384 L:0.0000 T:7 P:0.977:   2%|▏         | 46/2000 [05:47<4:05:56,  7.55s/it]\u001b[A\u001b[A\u001b[A\n",
      "\n",
      "\n",
      "R:-384 L:0.0000 T:7 P:0.977:   2%|▏         | 47/2000 [05:47<4:00:35,  7.39s/it]\u001b[A\u001b[A\u001b[A\n",
      "\n",
      "\n",
      "R:-426 L:0.0000 T:7 P:0.976:   2%|▏         | 47/2000 [05:54<4:05:41,  7.55s/it]\u001b[A\u001b[A\u001b[A\n",
      "\n",
      "\n",
      "R:-426 L:0.0000 T:7 P:0.976:   2%|▏         | 48/2000 [05:54<4:00:27,  7.39s/it]\u001b[A\u001b[A\u001b[A\n",
      "\n",
      "\n",
      "R:-402 L:0.0001 T:7 P:0.976:   2%|▏         | 48/2000 [06:01<4:05:20,  7.54s/it]\u001b[A\u001b[A\u001b[A\n",
      "\n",
      "\n",
      "R:-402 L:0.0001 T:7 P:0.976:   2%|▏         | 49/2000 [06:01<4:00:12,  7.39s/it]\u001b[A\u001b[A\u001b[A\n",
      "\n",
      "\n",
      "R:-386 L:0.0001 T:8 P:0.975:   2%|▏         | 49/2000 [06:10<4:05:37,  7.55s/it]\u001b[A\u001b[A\u001b[A\n",
      "\n",
      "\n",
      "R:-386 L:0.0001 T:8 P:0.975:   2%|▎         | 50/2000 [06:10<4:00:35,  7.40s/it]\u001b[A\u001b[A\u001b[A\n",
      "\n",
      "\n",
      "R:-386 L:0.0002 T:7 P:0.975:   2%|▎         | 50/2000 [06:17<4:05:10,  7.54s/it]\u001b[A\u001b[A\u001b[A\n",
      "\n",
      "\n",
      "R:-386 L:0.0002 T:7 P:0.975:   3%|▎         | 51/2000 [06:17<4:00:14,  7.40s/it]\u001b[A\u001b[A\u001b[A\n",
      "\n",
      "\n",
      "R:-390 L:0.0002 T:6 P:0.974:   3%|▎         | 51/2000 [06:24<4:04:40,  7.53s/it]\u001b[A\u001b[A\u001b[A\n",
      "\n",
      "\n",
      "R:-390 L:0.0002 T:6 P:0.974:   3%|▎         | 52/2000 [06:24<3:59:50,  7.39s/it]\u001b[A\u001b[A\u001b[A\n",
      "\n",
      "\n",
      "R:-382 L:0.0002 T:7 P:0.974:   3%|▎         | 52/2000 [06:31<4:04:13,  7.52s/it]\u001b[A\u001b[A\u001b[A\n",
      "\n",
      "\n",
      "R:-382 L:0.0002 T:7 P:0.974:   3%|▎         | 53/2000 [06:31<3:59:30,  7.38s/it]\u001b[A\u001b[A\u001b[A\n",
      "\n",
      "\n",
      "R:-382 L:0.0000 T:7 P:0.974:   3%|▎         | 53/2000 [06:38<4:03:48,  7.51s/it]\u001b[A\u001b[A\u001b[A\n",
      "\n",
      "\n",
      "R:-382 L:0.0000 T:7 P:0.974:   3%|▎         | 54/2000 [06:38<3:59:10,  7.37s/it]\u001b[A\u001b[A\u001b[A\n",
      "\n",
      "\n",
      "R:-370 L:0.0006 T:7 P:0.973:   3%|▎         | 54/2000 [06:45<4:03:28,  7.51s/it]\u001b[A\u001b[A\u001b[A\n",
      "\n",
      "\n",
      "R:-370 L:0.0006 T:7 P:0.973:   3%|▎         | 55/2000 [06:45<3:58:55,  7.37s/it]\u001b[A\u001b[A\u001b[A\n",
      "\n",
      "\n",
      "R:-370 L:0.0027 T:6 P:0.973:   3%|▎         | 55/2000 [06:52<4:02:56,  7.49s/it]\u001b[A\u001b[A\u001b[A\n",
      "\n",
      "\n",
      "R:-370 L:0.0027 T:6 P:0.973:   3%|▎         | 56/2000 [06:52<3:58:29,  7.36s/it]\u001b[A\u001b[A\u001b[A\n",
      "\n",
      "\n",
      "R:-390 L:0.0001 T:6 P:0.972:   3%|▎         | 56/2000 [06:58<4:02:25,  7.48s/it]\u001b[A\u001b[A\u001b[A\n",
      "\n",
      "\n",
      "R:-390 L:0.0001 T:6 P:0.972:   3%|▎         | 57/2000 [06:59<3:58:02,  7.35s/it]\u001b[A\u001b[A\u001b[A\n",
      "\n",
      "\n",
      "R:-388 L:0.0000 T:6 P:0.972:   3%|▎         | 57/2000 [07:05<4:02:01,  7.47s/it]\u001b[A\u001b[A\u001b[A\n",
      "\n",
      "\n",
      "R:-388 L:0.0000 T:6 P:0.972:   3%|▎         | 58/2000 [07:06<3:57:43,  7.34s/it]\u001b[A\u001b[A\u001b[A\n",
      "\n",
      "\n",
      "R:-392 L:0.0000 T:7 P:0.971:   3%|▎         | 58/2000 [07:13<4:01:53,  7.47s/it]\u001b[A\u001b[A\u001b[A\n",
      "\n",
      "\n",
      "R:-392 L:0.0000 T:7 P:0.971:   3%|▎         | 59/2000 [07:13<3:57:40,  7.35s/it]\u001b[A\u001b[A\u001b[A\n",
      "\n",
      "\n",
      "R:-418 L:0.0004 T:7 P:0.971:   3%|▎         | 59/2000 [07:20<4:01:31,  7.47s/it]\u001b[A\u001b[A\u001b[A\n",
      "\n",
      "\n",
      "R:-418 L:0.0004 T:7 P:0.971:   3%|▎         | 60/2000 [07:20<3:57:22,  7.34s/it]\u001b[A\u001b[A\u001b[A\n",
      "\n",
      "\n",
      "R:-348 L:0.0002 T:7 P:0.970:   3%|▎         | 60/2000 [07:27<4:01:14,  7.46s/it]\u001b[A\u001b[A\u001b[A\n",
      "\n",
      "\n",
      "R:-348 L:0.0002 T:7 P:0.970:   3%|▎         | 61/2000 [07:27<3:57:09,  7.34s/it]\u001b[A\u001b[A\u001b[A\n",
      "\n",
      "\n",
      "R:-406 L:0.0002 T:7 P:0.970:   3%|▎         | 61/2000 [07:35<4:01:08,  7.46s/it]\u001b[A\u001b[A\u001b[A\n",
      "\n",
      "\n",
      "R:-406 L:0.0002 T:7 P:0.970:   3%|▎         | 62/2000 [07:35<3:57:07,  7.34s/it]\u001b[A\u001b[A\u001b[A\n",
      "\n",
      "\n",
      "R:-382 L:0.0001 T:7 P:0.969:   3%|▎         | 62/2000 [07:42<4:00:59,  7.46s/it]\u001b[A\u001b[A\u001b[A\n",
      "\n",
      "\n",
      "R:-382 L:0.0001 T:7 P:0.969:   3%|▎         | 63/2000 [07:42<3:57:02,  7.34s/it]\u001b[A\u001b[A\u001b[A\n",
      "\n",
      "\n",
      "R:-362 L:0.0001 T:6 P:0.969:   3%|▎         | 63/2000 [07:49<4:00:32,  7.45s/it]\u001b[A\u001b[A\u001b[A\n",
      "\n",
      "\n",
      "R:-362 L:0.0001 T:6 P:0.969:   3%|▎         | 64/2000 [07:49<3:56:40,  7.33s/it]\u001b[A\u001b[A\u001b[A\n",
      "\n",
      "\n",
      "R:-388 L:0.0000 T:7 P:0.968:   3%|▎         | 64/2000 [07:56<4:00:19,  7.45s/it]\u001b[A\u001b[A\u001b[A\n",
      "\n",
      "\n",
      "R:-388 L:0.0000 T:7 P:0.968:   3%|▎         | 65/2000 [07:56<3:56:30,  7.33s/it]\u001b[A\u001b[A\u001b[A\n",
      "\n",
      "\n",
      "R:-394 L:0.0009 T:7 P:0.968:   3%|▎         | 65/2000 [08:04<4:00:12,  7.45s/it]\u001b[A\u001b[A\u001b[A\n",
      "\n",
      "\n",
      "R:-394 L:0.0009 T:7 P:0.968:   3%|▎         | 66/2000 [08:04<3:56:27,  7.34s/it]\u001b[A\u001b[A\u001b[A\n",
      "\n",
      "\n",
      "R:-376 L:0.0001 T:7 P:0.967:   3%|▎         | 66/2000 [08:11<4:00:12,  7.45s/it]\u001b[A\u001b[A\u001b[A\n",
      "\n",
      "\n",
      "R:-376 L:0.0001 T:7 P:0.967:   3%|▎         | 67/2000 [08:11<3:56:30,  7.34s/it]\u001b[A\u001b[A\u001b[A\n",
      "\n",
      "\n",
      "R:-392 L:0.0048 T:7 P:0.967:   3%|▎         | 67/2000 [08:19<4:00:02,  7.45s/it]\u001b[A\u001b[A\u001b[A\n",
      "\n",
      "\n",
      "R:-392 L:0.0048 T:7 P:0.967:   3%|▎         | 68/2000 [08:19<3:56:23,  7.34s/it]\u001b[A\u001b[A\u001b[A\n",
      "\n",
      "\n",
      "R:-382 L:0.0000 T:7 P:0.966:   3%|▎         | 68/2000 [08:26<3:59:45,  7.45s/it]\u001b[A\u001b[A\u001b[A\n",
      "\n",
      "\n",
      "R:-382 L:0.0000 T:7 P:0.966:   3%|▎         | 69/2000 [08:26<3:56:10,  7.34s/it]\u001b[A\u001b[A\u001b[A\n",
      "\n",
      "\n",
      "R:-392 L:0.0000 T:7 P:0.966:   3%|▎         | 69/2000 [08:34<3:59:51,  7.45s/it]\u001b[A\u001b[A\u001b[A\n",
      "\n",
      "\n",
      "R:-392 L:0.0000 T:7 P:0.966:   4%|▎         | 70/2000 [08:34<3:56:19,  7.35s/it]\u001b[A\u001b[A\u001b[A\n",
      "\n",
      "\n",
      "R:-386 L:0.0010 T:7 P:0.965:   4%|▎         | 70/2000 [08:42<3:59:55,  7.46s/it]\u001b[A\u001b[A\u001b[A\n",
      "\n",
      "\n",
      "R:-386 L:0.0010 T:7 P:0.965:   4%|▎         | 71/2000 [08:42<3:56:25,  7.35s/it]\u001b[A\u001b[A\u001b[A\n",
      "\n",
      "\n",
      "R:-362 L:0.0007 T:7 P:0.965:   4%|▎         | 71/2000 [08:49<3:59:42,  7.46s/it]\u001b[A\u001b[A\u001b[A\n",
      "\n",
      "\n",
      "R:-362 L:0.0007 T:7 P:0.965:   4%|▎         | 72/2000 [08:49<3:56:15,  7.35s/it]\u001b[A\u001b[A\u001b[A\n",
      "\n",
      "\n",
      "R:-376 L:0.0001 T:7 P:0.964:   4%|▎         | 72/2000 [08:56<3:59:28,  7.45s/it]\u001b[A\u001b[A\u001b[A\n",
      "\n",
      "\n",
      "R:-376 L:0.0001 T:7 P:0.964:   4%|▎         | 73/2000 [08:56<3:56:03,  7.35s/it]\u001b[A\u001b[A\u001b[A\n",
      "\n",
      "\n",
      "R:-374 L:0.0000 T:7 P:0.964:   4%|▎         | 73/2000 [09:04<3:59:21,  7.45s/it]\u001b[A\u001b[A\u001b[A\n",
      "\n",
      "\n",
      "R:-374 L:0.0000 T:7 P:0.964:   4%|▎         | 74/2000 [09:04<3:56:00,  7.35s/it]\u001b[A\u001b[A\u001b[A\n",
      "\n",
      "\n",
      "R:-372 L:0.0000 T:7 P:0.963:   4%|▎         | 74/2000 [09:11<3:59:09,  7.45s/it]\u001b[A\u001b[A\u001b[A\n",
      "\n",
      "\n",
      "R:-372 L:0.0000 T:7 P:0.963:   4%|▍         | 75/2000 [09:11<3:55:51,  7.35s/it]\u001b[A\u001b[A\u001b[A\n",
      "\n",
      "\n",
      "R:-382 L:0.0001 T:6 P:0.963:   4%|▍         | 75/2000 [09:18<3:58:50,  7.44s/it]\u001b[A\u001b[A\u001b[A\n",
      "\n",
      "\n",
      "R:-382 L:0.0001 T:6 P:0.963:   4%|▍         | 76/2000 [09:18<3:55:35,  7.35s/it]\u001b[A\u001b[A\u001b[A\n",
      "\n",
      "\n",
      "R:-358 L:0.0001 T:7 P:0.962:   4%|▍         | 76/2000 [09:26<3:58:55,  7.45s/it]\u001b[A\u001b[A\u001b[A\n",
      "\n",
      "\n",
      "R:-358 L:0.0001 T:7 P:0.962:   4%|▍         | 77/2000 [09:26<3:55:42,  7.35s/it]\u001b[A\u001b[A\u001b[A\n",
      "\n",
      "\n",
      "R:-382 L:0.0001 T:7 P:0.962:   4%|▍         | 77/2000 [09:34<3:58:55,  7.45s/it]\u001b[A\u001b[A\u001b[A\n",
      "\n",
      "\n",
      "R:-382 L:0.0001 T:7 P:0.962:   4%|▍         | 78/2000 [09:34<3:55:44,  7.36s/it]\u001b[A\u001b[A\u001b[A\n",
      "\n",
      "\n",
      "R:-390 L:0.0000 T:8 P:0.961:   4%|▍         | 78/2000 [09:42<3:59:10,  7.47s/it]\u001b[A\u001b[A\u001b[A\n",
      "\n",
      "\n",
      "R:-390 L:0.0000 T:8 P:0.961:   4%|▍         | 79/2000 [09:42<3:56:01,  7.37s/it]\u001b[A\u001b[A\u001b[A\n",
      "\n",
      "\n",
      "R:-368 L:0.0001 T:7 P:0.961:   4%|▍         | 79/2000 [09:49<3:59:01,  7.47s/it]\u001b[A\u001b[A\u001b[A\n",
      "\n",
      "\n",
      "R:-368 L:0.0001 T:7 P:0.961:   4%|▍         | 80/2000 [09:49<3:55:54,  7.37s/it]\u001b[A\u001b[A\u001b[A\n",
      "\n",
      "\n",
      "R:-370 L:0.0001 T:7 P:0.960:   4%|▍         | 80/2000 [09:56<3:58:46,  7.46s/it]\u001b[A\u001b[A\u001b[A\n",
      "\n",
      "\n",
      "R:-370 L:0.0001 T:7 P:0.960:   4%|▍         | 81/2000 [09:56<3:55:42,  7.37s/it]\u001b[A\u001b[A\u001b[A\n",
      "\n",
      "\n",
      "R:-390 L:0.0007 T:7 P:0.960:   4%|▍         | 81/2000 [10:04<3:58:49,  7.47s/it]\u001b[A\u001b[A\u001b[A\n",
      "\n",
      "\n",
      "R:-390 L:0.0007 T:7 P:0.960:   4%|▍         | 82/2000 [10:04<3:55:47,  7.38s/it]\u001b[A\u001b[A\u001b[A\n",
      "\n",
      "\n",
      "R:-410 L:0.0001 T:7 P:0.959:   4%|▍         | 82/2000 [10:12<3:58:41,  7.47s/it]\u001b[A\u001b[A\u001b[A\n",
      "\n",
      "\n",
      "R:-410 L:0.0001 T:7 P:0.959:   4%|▍         | 83/2000 [10:12<3:55:41,  7.38s/it]\u001b[A\u001b[A\u001b[A\n",
      "\n",
      "\n",
      "R:-396 L:0.0000 T:7 P:0.959:   4%|▍         | 83/2000 [10:19<3:58:27,  7.46s/it]\u001b[A\u001b[A\u001b[A\n",
      "\n",
      "\n",
      "R:-396 L:0.0000 T:7 P:0.959:   4%|▍         | 84/2000 [10:19<3:55:29,  7.37s/it]\u001b[A\u001b[A\u001b[A\n",
      "\n",
      "\n",
      "R:-358 L:0.0002 T:7 P:0.958:   4%|▍         | 84/2000 [10:27<3:58:27,  7.47s/it]\u001b[A\u001b[A\u001b[A\n",
      "\n",
      "\n",
      "R:-358 L:0.0002 T:7 P:0.958:   4%|▍         | 85/2000 [10:27<3:55:31,  7.38s/it]\u001b[A\u001b[A\u001b[A\n",
      "\n",
      "\n",
      "R:-398 L:0.0001 T:7 P:0.958:   4%|▍         | 85/2000 [10:34<3:58:19,  7.47s/it]\u001b[A\u001b[A\u001b[A\n",
      "\n",
      "\n",
      "R:-398 L:0.0001 T:7 P:0.958:   4%|▍         | 86/2000 [10:34<3:55:25,  7.38s/it]\u001b[A\u001b[A\u001b[A\n",
      "\n",
      "\n",
      "R:-388 L:0.0001 T:6 P:0.957:   4%|▍         | 86/2000 [10:41<3:57:58,  7.46s/it]\u001b[A\u001b[A\u001b[A\n",
      "\n",
      "\n",
      "R:-388 L:0.0001 T:6 P:0.957:   4%|▍         | 87/2000 [10:41<3:55:07,  7.37s/it]\u001b[A\u001b[A\u001b[A\n",
      "\n",
      "\n",
      "R:-358 L:0.0001 T:8 P:0.957:   4%|▍         | 87/2000 [10:49<3:58:08,  7.47s/it]\u001b[A\u001b[A\u001b[A\n",
      "\n",
      "\n",
      "R:-358 L:0.0001 T:8 P:0.957:   4%|▍         | 88/2000 [10:49<3:55:19,  7.38s/it]\u001b[A\u001b[A\u001b[A\n",
      "\n",
      "\n",
      "R:-334 L:0.0163 T:7 P:0.956:   4%|▍         | 88/2000 [10:57<3:57:55,  7.47s/it]\u001b[A\u001b[A\u001b[A\n",
      "\n",
      "\n"
     ]
    },
    {
     "name": "stderr",
     "output_type": "stream",
     "text": [
      "R:-334 L:0.0163 T:7 P:0.956:   4%|▍         | 89/2000 [10:57<3:55:07,  7.38s/it]\u001b[A\u001b[A\u001b[A\n",
      "\n",
      "\n",
      "R:-368 L:0.0007 T:6 P:0.956:   4%|▍         | 89/2000 [11:03<3:57:37,  7.46s/it]\u001b[A\u001b[A\u001b[A\n",
      "\n",
      "\n",
      "R:-368 L:0.0007 T:6 P:0.956:   4%|▍         | 90/2000 [11:03<3:54:51,  7.38s/it]\u001b[A\u001b[A\u001b[A\n",
      "\n",
      "\n",
      "R:-374 L:0.0000 T:7 P:0.955:   4%|▍         | 90/2000 [11:11<3:57:27,  7.46s/it]\u001b[A\u001b[A\u001b[A\n",
      "\n",
      "\n",
      "R:-374 L:0.0000 T:7 P:0.955:   5%|▍         | 91/2000 [11:11<3:54:43,  7.38s/it]\u001b[A\u001b[A\u001b[A\n",
      "\n",
      "\n",
      "R:-400 L:0.0009 T:7 P:0.955:   5%|▍         | 91/2000 [11:19<3:57:25,  7.46s/it]\u001b[A\u001b[A\u001b[A\n",
      "\n",
      "\n",
      "R:-400 L:0.0009 T:7 P:0.955:   5%|▍         | 92/2000 [11:19<3:54:43,  7.38s/it]\u001b[A\u001b[A\u001b[A\n",
      "\n",
      "\n",
      "R:-364 L:0.0005 T:8 P:0.954:   5%|▍         | 92/2000 [11:27<3:57:31,  7.47s/it]\u001b[A\u001b[A\u001b[A\n",
      "\n",
      "\n",
      "R:-364 L:0.0005 T:8 P:0.954:   5%|▍         | 93/2000 [11:27<3:54:51,  7.39s/it]\u001b[A\u001b[A\u001b[A\n",
      "\n",
      "\n",
      "R:-360 L:0.0001 T:6 P:0.954:   5%|▍         | 93/2000 [11:34<3:57:14,  7.46s/it]\u001b[A\u001b[A\u001b[A\n",
      "\n",
      "\n",
      "R:-360 L:0.0001 T:6 P:0.954:   5%|▍         | 94/2000 [11:34<3:54:35,  7.38s/it]\u001b[A\u001b[A\u001b[A\n",
      "\n",
      "\n",
      "R:-372 L:0.0001 T:6 P:0.953:   5%|▍         | 94/2000 [11:41<3:56:54,  7.46s/it]\u001b[A\u001b[A\u001b[A\n",
      "\n",
      "\n",
      "R:-372 L:0.0001 T:6 P:0.953:   5%|▍         | 95/2000 [11:41<3:54:17,  7.38s/it]\u001b[A\u001b[A\u001b[A\n",
      "\n",
      "\n",
      "R:-344 L:0.0001 T:7 P:0.953:   5%|▍         | 95/2000 [11:48<3:56:40,  7.45s/it]\u001b[A\u001b[A\u001b[A\n",
      "\n",
      "\n",
      "R:-344 L:0.0001 T:7 P:0.953:   5%|▍         | 96/2000 [11:48<3:54:05,  7.38s/it]\u001b[A\u001b[A\u001b[A\n",
      "\n",
      "\n",
      "R:-350 L:0.0002 T:7 P:0.952:   5%|▍         | 96/2000 [11:55<3:56:39,  7.46s/it]\u001b[A\u001b[A\u001b[A\n",
      "\n",
      "\n",
      "R:-350 L:0.0002 T:7 P:0.952:   5%|▍         | 97/2000 [11:55<3:54:05,  7.38s/it]\u001b[A\u001b[A\u001b[A\n",
      "\n",
      "\n",
      "R:-376 L:0.0006 T:7 P:0.952:   5%|▍         | 97/2000 [12:03<3:56:32,  7.46s/it]\u001b[A\u001b[A\u001b[A\n",
      "\n",
      "\n",
      "R:-376 L:0.0006 T:7 P:0.952:   5%|▍         | 98/2000 [12:03<3:54:00,  7.38s/it]\u001b[A\u001b[A\u001b[A\n",
      "\n",
      "\n",
      "R:-346 L:0.0008 T:7 P:0.951:   5%|▍         | 98/2000 [12:10<3:56:22,  7.46s/it]\u001b[A\u001b[A\u001b[A\n",
      "\n",
      "\n",
      "R:-346 L:0.0008 T:7 P:0.951:   5%|▍         | 99/2000 [12:10<3:53:52,  7.38s/it]\u001b[A\u001b[A\u001b[A\n",
      "\n",
      "\n",
      "R:-372 L:0.0002 T:7 P:0.951:   5%|▍         | 99/2000 [12:18<3:56:11,  7.46s/it]\u001b[A\u001b[A\u001b[A\n",
      "\n",
      "\n",
      "R:-372 L:0.0002 T:7 P:0.951:   5%|▌         | 100/2000 [12:18<3:53:42,  7.38s/it]\u001b[A\u001b[A\u001b[A\n",
      "\n",
      "\n",
      "R:-364 L:0.0004 T:7 P:0.950:   5%|▌         | 100/2000 [12:25<3:55:59,  7.45s/it]\u001b[A\u001b[A\u001b[A\n",
      "\n",
      "\n",
      "R:-364 L:0.0004 T:7 P:0.950:   5%|▌         | 101/2000 [12:25<3:53:32,  7.38s/it]\u001b[A\u001b[A\u001b[A\n",
      "\n",
      "\n",
      "R:-390 L:0.0003 T:7 P:0.950:   5%|▌         | 101/2000 [12:32<3:55:54,  7.45s/it]\u001b[A\u001b[A\u001b[A\n",
      "\n",
      "\n",
      "R:-390 L:0.0003 T:7 P:0.950:   5%|▌         | 102/2000 [12:32<3:53:28,  7.38s/it]\u001b[A\u001b[A\u001b[A\n",
      "\n",
      "\n",
      "R:-340 L:0.0001 T:7 P:0.949:   5%|▌         | 102/2000 [12:40<3:55:42,  7.45s/it]\u001b[A\u001b[A\u001b[A\n",
      "\n",
      "\n",
      "R:-340 L:0.0001 T:7 P:0.949:   5%|▌         | 103/2000 [12:40<3:53:18,  7.38s/it]\u001b[A\u001b[A\u001b[A\n",
      "\n",
      "\n",
      "R:-370 L:0.0003 T:8 P:0.949:   5%|▌         | 103/2000 [12:48<3:55:50,  7.46s/it]\u001b[A\u001b[A\u001b[A\n",
      "\n",
      "\n",
      "R:-370 L:0.0003 T:8 P:0.949:   5%|▌         | 104/2000 [12:48<3:53:26,  7.39s/it]\u001b[A\u001b[A\u001b[A\n",
      "\n",
      "\n",
      "R:-334 L:0.0042 T:7 P:0.948:   5%|▌         | 104/2000 [12:55<3:55:38,  7.46s/it]\u001b[A\u001b[A\u001b[A\n",
      "\n",
      "\n",
      "R:-334 L:0.0042 T:7 P:0.948:   5%|▌         | 105/2000 [12:55<3:53:16,  7.39s/it]\u001b[A\u001b[A\u001b[A\n",
      "\n",
      "\n",
      "R:-362 L:0.0002 T:7 P:0.948:   5%|▌         | 105/2000 [13:03<3:55:31,  7.46s/it]\u001b[A\u001b[A\u001b[A\n",
      "\n",
      "\n",
      "R:-362 L:0.0002 T:7 P:0.948:   5%|▌         | 106/2000 [13:03<3:53:11,  7.39s/it]\u001b[A\u001b[A\u001b[A\n",
      "\n",
      "\n",
      "R:-374 L:0.0004 T:8 P:0.948:   5%|▌         | 106/2000 [13:11<3:55:40,  7.47s/it]\u001b[A\u001b[A\u001b[A\n",
      "\n",
      "\n",
      "R:-374 L:0.0004 T:8 P:0.948:   5%|▌         | 107/2000 [13:11<3:53:20,  7.40s/it]\u001b[A\u001b[A\u001b[A\n",
      "\n",
      "\n",
      "R:-348 L:0.0001 T:7 P:0.947:   5%|▌         | 107/2000 [13:19<3:55:35,  7.47s/it]\u001b[A\u001b[A\u001b[A\n",
      "\n",
      "\n",
      "R:-348 L:0.0001 T:7 P:0.947:   5%|▌         | 108/2000 [13:19<3:53:17,  7.40s/it]\u001b[A\u001b[A\u001b[A\n",
      "\n",
      "\n",
      "R:-366 L:0.0001 T:7 P:0.947:   5%|▌         | 108/2000 [13:26<3:55:25,  7.47s/it]\u001b[A\u001b[A\u001b[A\n",
      "\n",
      "\n",
      "R:-366 L:0.0001 T:7 P:0.947:   5%|▌         | 109/2000 [13:26<3:53:08,  7.40s/it]\u001b[A\u001b[A\u001b[A\n",
      "\n",
      "\n",
      "R:-372 L:0.0006 T:7 P:0.946:   5%|▌         | 109/2000 [13:33<3:55:14,  7.46s/it]\u001b[A\u001b[A\u001b[A\n",
      "\n",
      "\n",
      "R:-372 L:0.0006 T:7 P:0.946:   6%|▌         | 110/2000 [13:33<3:52:59,  7.40s/it]\u001b[A\u001b[A\u001b[A\n",
      "\n",
      "\n",
      "R:-374 L:0.0004 T:7 P:0.946:   6%|▌         | 110/2000 [13:40<3:55:05,  7.46s/it]\u001b[A\u001b[A\u001b[A\n",
      "\n",
      "\n",
      "R:-374 L:0.0004 T:7 P:0.946:   6%|▌         | 111/2000 [13:40<3:52:51,  7.40s/it]\u001b[A\u001b[A\u001b[A\n",
      "\n",
      "\n",
      "R:-378 L:0.0001 T:8 P:0.945:   6%|▌         | 111/2000 [13:49<3:55:12,  7.47s/it]\u001b[A\u001b[A\u001b[A\n",
      "\n",
      "\n",
      "R:-378 L:0.0001 T:8 P:0.945:   6%|▌         | 112/2000 [13:49<3:52:58,  7.40s/it]\u001b[A\u001b[A\u001b[A\n",
      "\n",
      "\n",
      "R:-340 L:0.0001 T:7 P:0.945:   6%|▌         | 112/2000 [13:56<3:55:02,  7.47s/it]\u001b[A\u001b[A\u001b[A\n",
      "\n",
      "\n",
      "R:-340 L:0.0001 T:7 P:0.945:   6%|▌         | 113/2000 [13:56<3:52:50,  7.40s/it]\u001b[A\u001b[A\u001b[A\n",
      "\n",
      "\n",
      "R:-340 L:0.0002 T:7 P:0.944:   6%|▌         | 113/2000 [14:03<3:54:49,  7.47s/it]\u001b[A\u001b[A\u001b[A\n",
      "\n",
      "\n",
      "R:-340 L:0.0002 T:7 P:0.944:   6%|▌         | 114/2000 [14:03<3:52:38,  7.40s/it]\u001b[A\u001b[A\u001b[A\n",
      "\n",
      "\n",
      "R:-364 L:0.0007 T:7 P:0.944:   6%|▌         | 114/2000 [14:11<3:54:43,  7.47s/it]\u001b[A\u001b[A\u001b[A\n",
      "\n",
      "\n",
      "R:-364 L:0.0007 T:7 P:0.944:   6%|▌         | 115/2000 [14:11<3:52:33,  7.40s/it]\u001b[A\u001b[A\u001b[A\n",
      "\n",
      "\n",
      "R:-358 L:0.0005 T:7 P:0.943:   6%|▌         | 115/2000 [14:18<3:54:39,  7.47s/it]\u001b[A\u001b[A\u001b[A\n",
      "\n",
      "\n",
      "R:-358 L:0.0005 T:7 P:0.943:   6%|▌         | 116/2000 [14:18<3:52:30,  7.40s/it]\u001b[A\u001b[A\u001b[A\n",
      "\n",
      "\n",
      "R:-354 L:0.0002 T:7 P:0.943:   6%|▌         | 116/2000 [14:26<3:54:28,  7.47s/it]\u001b[A\u001b[A\u001b[A\n",
      "\n",
      "\n",
      "R:-354 L:0.0002 T:7 P:0.943:   6%|▌         | 117/2000 [14:26<3:52:20,  7.40s/it]\u001b[A\u001b[A\u001b[A\n",
      "\n",
      "\n",
      "R:-342 L:0.0006 T:7 P:0.942:   6%|▌         | 117/2000 [14:33<3:54:17,  7.47s/it]\u001b[A\u001b[A\u001b[A\n",
      "\n",
      "\n",
      "R:-342 L:0.0006 T:7 P:0.942:   6%|▌         | 118/2000 [14:33<3:52:11,  7.40s/it]\u001b[A\u001b[A\u001b[A\n",
      "\n",
      "\n",
      "R:-388 L:0.0002 T:7 P:0.942:   6%|▌         | 118/2000 [14:40<3:54:04,  7.46s/it]\u001b[A\u001b[A\u001b[A\n",
      "\n",
      "\n",
      "R:-388 L:0.0002 T:7 P:0.942:   6%|▌         | 119/2000 [14:40<3:51:58,  7.40s/it]\u001b[A\u001b[A\u001b[A\n",
      "\n",
      "\n",
      "R:-372 L:0.0001 T:7 P:0.941:   6%|▌         | 119/2000 [14:47<3:53:53,  7.46s/it]\u001b[A\u001b[A\u001b[A\n",
      "\n",
      "\n",
      "R:-372 L:0.0001 T:7 P:0.941:   6%|▌         | 120/2000 [14:47<3:51:48,  7.40s/it]\u001b[A\u001b[A\u001b[A\n",
      "\n",
      "\n",
      "R:-386 L:0.0001 T:7 P:0.941:   6%|▌         | 120/2000 [14:55<3:53:49,  7.46s/it]\u001b[A\u001b[A\u001b[A\n",
      "\n",
      "\n",
      "R:-386 L:0.0001 T:7 P:0.941:   6%|▌         | 121/2000 [14:55<3:51:46,  7.40s/it]\u001b[A\u001b[A\u001b[A\n",
      "\n",
      "\n",
      "R:-350 L:0.0010 T:7 P:0.940:   6%|▌         | 121/2000 [15:02<3:53:41,  7.46s/it]\u001b[A\u001b[A\u001b[A\n",
      "\n",
      "\n",
      "R:-350 L:0.0010 T:7 P:0.940:   6%|▌         | 122/2000 [15:02<3:51:39,  7.40s/it]\u001b[A\u001b[A\u001b[A\n",
      "\n",
      "\n",
      "R:-354 L:0.0001 T:7 P:0.940:   6%|▌         | 122/2000 [15:10<3:53:32,  7.46s/it]\u001b[A\u001b[A\u001b[A\n",
      "\n",
      "\n",
      "R:-354 L:0.0001 T:7 P:0.940:   6%|▌         | 123/2000 [15:10<3:51:31,  7.40s/it]\u001b[A\u001b[A\u001b[A\n",
      "\n",
      "\n",
      "R:-362 L:0.0003 T:7 P:0.939:   6%|▌         | 123/2000 [15:17<3:53:26,  7.46s/it]\u001b[A\u001b[A\u001b[A\n",
      "\n",
      "\n",
      "R:-362 L:0.0003 T:7 P:0.939:   6%|▌         | 124/2000 [15:17<3:51:26,  7.40s/it]\u001b[A\u001b[A\u001b[A\n",
      "\n",
      "\n",
      "R:-336 L:0.0003 T:7 P:0.939:   6%|▌         | 124/2000 [15:25<3:53:27,  7.47s/it]\u001b[A\u001b[A\u001b[A\n",
      "\n",
      "\n",
      "R:-336 L:0.0003 T:7 P:0.939:   6%|▋         | 125/2000 [15:25<3:51:27,  7.41s/it]\u001b[A\u001b[A\u001b[A\n",
      "\n",
      "\n",
      "R:-354 L:0.0016 T:7 P:0.938:   6%|▋         | 125/2000 [15:32<3:53:13,  7.46s/it]\u001b[A\u001b[A\u001b[A\n",
      "\n",
      "\n",
      "R:-354 L:0.0016 T:7 P:0.938:   6%|▋         | 126/2000 [15:32<3:51:15,  7.40s/it]\u001b[A\u001b[A\u001b[A\n",
      "\n",
      "\n",
      "R:-352 L:0.0009 T:7 P:0.938:   6%|▋         | 126/2000 [15:40<3:53:04,  7.46s/it]\u001b[A\u001b[A\u001b[A\n",
      "\n",
      "\n",
      "R:-352 L:0.0009 T:7 P:0.938:   6%|▋         | 127/2000 [15:40<3:51:06,  7.40s/it]\u001b[A\u001b[A\u001b[A\n",
      "\n",
      "\n",
      "R:-354 L:0.0001 T:7 P:0.937:   6%|▋         | 127/2000 [15:47<3:53:00,  7.46s/it]\u001b[A\u001b[A\u001b[A\n",
      "\n",
      "\n",
      "R:-354 L:0.0001 T:7 P:0.937:   6%|▋         | 128/2000 [15:47<3:51:04,  7.41s/it]\u001b[A\u001b[A\u001b[A\n",
      "\n",
      "\n",
      "R:-370 L:0.0008 T:8 P:0.937:   6%|▋         | 128/2000 [15:56<3:53:06,  7.47s/it]\u001b[A\u001b[A\u001b[A\n",
      "\n",
      "\n",
      "R:-370 L:0.0008 T:8 P:0.937:   6%|▋         | 129/2000 [15:56<3:51:10,  7.41s/it]\u001b[A\u001b[A\u001b[A\n",
      "\n",
      "\n",
      "R:-354 L:0.0009 T:7 P:0.936:   6%|▋         | 129/2000 [16:03<3:52:56,  7.47s/it]\u001b[A\u001b[A\u001b[A\n",
      "\n",
      "\n",
      "R:-354 L:0.0009 T:7 P:0.936:   6%|▋         | 130/2000 [16:03<3:51:01,  7.41s/it]\u001b[A\u001b[A\u001b[A"
     ]
    }
   ],
   "source": [
    "pbar = tqdm(range(1,epoches+1))\n",
    "state = env.reset()\n",
    "for epoch in pbar:\n",
    "    total_rewards = 0\n",
    "    epo_start = time.time()\n",
    "    for step in range(forward):\n",
    "        #对每个状态使用epsilon_greedy选择\n",
    "        action, q = epsilon_greedy(env, state, epoch, ep_min=0.01, ep_total=epislon_total)\n",
    "        eps = epsilon_calc(epoch,esp_total=epislon_total)\n",
    "        #play \n",
    "        next_state,reward = env.step(action)\n",
    "        #加入到经验记忆中\n",
    "        remember(state, action, q, reward, next_state)\n",
    "        #从记忆中采样回放，保证iid。实际上这个任务中这一步不是必须的。\n",
    "        loss = replay()\n",
    "        total_rewards += reward\n",
    "        state = next_state\n",
    "        if step % every_copy_step==0:\n",
    "            copy_critic_to_actor()\n",
    "    reward_rec.append(total_rewards)\n",
    "    pbar.set_description('R:{} L:{:.4f} T:{} P:{:.3f}'.format(total_rewards,loss,int(time.time()-epo_start),eps))"
   ]
  },
  {
   "cell_type": "code",
   "execution_count": 466,
   "metadata": {
    "collapsed": true
   },
   "outputs": [],
   "source": [
    "critic_model.save('crtic_2000.HDF5')"
   ]
  },
  {
   "cell_type": "code",
   "execution_count": 87,
   "metadata": {
    "collapsed": true
   },
   "outputs": [],
   "source": [
    "r5 = np.mean([reward_rec[i:i+10] for i in range(0,len(reward_rec),10)],axis=1)"
   ]
  },
  {
   "cell_type": "code",
   "execution_count": 141,
   "metadata": {},
   "outputs": [
    {
     "data": {
      "text/plain": [
       "<matplotlib.text.Text at 0x7fdad96096a0>"
      ]
     },
     "execution_count": 141,
     "metadata": {},
     "output_type": "execute_result"
    },
    {
     "data": {
      "image/png": "[encoded data removed]",
      "text/plain": [
       "<matplotlib.figure.Figure at 0x7fdad95f80b8>"
      ]
     },
     "metadata": {},
     "output_type": "display_data"
    }
   ],
   "source": [
    "plt.plot(range(len(r5)),r5,c='b')\n",
    "plt.xlabel('iters')\n",
    "plt.ylabel('mean score')"
   ]
  },
  {
   "cell_type": "code",
   "execution_count": null,
   "metadata": {
    "collapsed": true
   },
   "outputs": [],
   "source": [
    "copy_critic_to_actor()"
   ]
  },
  {
   "cell_type": "code",
   "execution_count": 471,
   "metadata": {
    "collapsed": true
   },
   "outputs": [],
   "source": [
    "model_loaded = keras.models.load_model('crtic_2000.HDF5')"
   ]
  },
  {
   "cell_type": "code",
   "execution_count": 472,
   "metadata": {
    "scrolled": true
   },
   "outputs": [
    {
     "data": {
      "text/plain": [
       "0.97230000000000005"
      ]
     },
     "execution_count": 472,
     "metadata": {},
     "output_type": "execute_result"
    }
   ],
   "source": [
    "pred = predict(actor_q_model, X_test)\n",
    "\n",
    "accuracy_score(y_test,pred)"
   ]
  },
  {
   "cell_type": "code",
   "execution_count": 477,
   "metadata": {
    "scrolled": false
   },
   "outputs": [
    {
     "data": {
      "image/png": "[encoded data removed]",
      "text/plain": [
       "<IPython.core.display.Image object>"
      ]
     },
     "execution_count": 477,
     "metadata": {},
     "output_type": "execute_result"
    }
   ],
   "source": [
    "plot_model(model_loaded,'model.png',True)\n",
    "Image('model.png')"
   ]
  },
  {
   "cell_type": "code",
   "execution_count": 160,
   "metadata": {
    "collapsed": true
   },
   "outputs": [],
   "source": [
    "X_train_og = X_train.reshape((-1,28,28))"
   ]
  },
  {
   "cell_type": "code",
   "execution_count": 161,
   "metadata": {
    "collapsed": true
   },
   "outputs": [],
   "source": [
    "X_test_og = X_test.reshape((-1,28,28))"
   ]
  },
  {
   "cell_type": "code",
   "execution_count": 170,
   "metadata": {
    "collapsed": true
   },
   "outputs": [],
   "source": [
    "rnn_model = Sequential()\n",
    "rnn_model.add(GRU(64,input_shape=(28,28)))\n",
    "rnn_model.add(Dense(32,activation='relu'))\n",
    "rnn_model.add(Dense(num_actions, activation='softmax'))\n",
    "rnn_model.compile(loss='categorical_crossentropy', optimizer='adam',metrics=['accuracy'])"
   ]
  },
  {
   "cell_type": "code",
   "execution_count": 171,
   "metadata": {
    "scrolled": true
   },
   "outputs": [
    {
     "name": "stdout",
     "output_type": "stream",
     "text": [
      "Train on 54000 samples, validate on 6000 samples\n",
      "Epoch 1/10\n",
      "54000/54000 [==============================] - 44s 811us/step - loss: 0.6815 - acc: 0.7715 - val_loss: 0.1811 - val_acc: 0.9483\n",
      "Epoch 2/10\n",
      "54000/54000 [==============================] - 43s 805us/step - loss: 0.1820 - acc: 0.9454 - val_loss: 0.1311 - val_acc: 0.9608\n",
      "Epoch 3/10\n",
      "54000/54000 [==============================] - 44s 812us/step - loss: 0.1216 - acc: 0.9625 - val_loss: 0.0839 - val_acc: 0.9750\n",
      "Epoch 4/10\n",
      "54000/54000 [==============================] - 43s 805us/step - loss: 0.0942 - acc: 0.9711 - val_loss: 0.0717 - val_acc: 0.9783\n",
      "Epoch 5/10\n",
      "54000/54000 [==============================] - 43s 797us/step - loss: 0.0765 - acc: 0.9769 - val_loss: 0.0768 - val_acc: 0.9770\n",
      "Epoch 6/10\n",
      "54000/54000 [==============================] - 43s 803us/step - loss: 0.0647 - acc: 0.9807 - val_loss: 0.0593 - val_acc: 0.9830\n",
      "Epoch 7/10\n",
      "54000/54000 [==============================] - 44s 810us/step - loss: 0.0586 - acc: 0.9823 - val_loss: 0.0541 - val_acc: 0.9845\n",
      "Epoch 8/10\n",
      "54000/54000 [==============================] - 43s 801us/step - loss: 0.0489 - acc: 0.9849 - val_loss: 0.0544 - val_acc: 0.9850\n",
      "Epoch 9/10\n",
      "54000/54000 [==============================] - 43s 804us/step - loss: 0.0454 - acc: 0.9864 - val_loss: 0.0480 - val_acc: 0.9853\n",
      "Epoch 10/10\n",
      "54000/54000 [==============================] - 44s 812us/step - loss: 0.0401 - acc: 0.9878 - val_loss: 0.0439 - val_acc: 0.9875\n"
     ]
    },
    {
     "data": {
      "text/plain": [
       "<keras.callbacks.History at 0x7fdc84090dd8>"
      ]
     },
     "execution_count": 171,
     "metadata": {},
     "output_type": "execute_result"
    }
   ],
   "source": [
    "rnn_model.fit(X_train_og, y_train_onehot, batch_size=64, epochs=10, validation_split=0.1, verbose=1)"
   ]
  },
  {
   "cell_type": "code",
   "execution_count": 140,
   "metadata": {},
   "outputs": [
    {
     "name": "stdout",
     "output_type": "stream",
     "text": [
      "10000/10000 [==============================] - 4s 406us/step\n"
     ]
    },
    {
     "data": {
      "text/plain": [
       "[0.050150478051835673, 0.98509999999999998]"
      ]
     },
     "execution_count": 140,
     "metadata": {},
     "output_type": "execute_result"
    }
   ],
   "source": [
    "rnn_model.evaluate(X_test_og, y_test_onehot)"
   ]
  },
  {
   "cell_type": "code",
   "execution_count": 172,
   "metadata": {
    "collapsed": true
   },
   "outputs": [],
   "source": [
    "layer_dict = dict([(layer.name, layer) for layer in actor_model.layers])"
   ]
  },
  {
   "cell_type": "code",
   "execution_count": 173,
   "metadata": {
    "scrolled": true
   },
   "outputs": [
    {
     "data": {
      "text/plain": [
       "{'actions_input': <keras.engine.topology.InputLayer at 0x7fdd90385898>,\n",
       " 'conv2d_5': <keras.layers.convolutional.Conv2D at 0x7fdd904c2f98>,\n",
       " 'conv2d_6': <keras.layers.convolutional.Conv2D at 0x7fdd904c2a20>,\n",
       " 'conv2d_7': <keras.layers.convolutional.Conv2D at 0x7fdd904a9ef0>,\n",
       " 'conv2d_8': <keras.layers.convolutional.Conv2D at 0x7fdd904320b8>,\n",
       " 'dense_3': <keras.layers.core.Dense at 0x7fdd90401198>,\n",
       " 'flatten_2': <keras.layers.core.Flatten at 0x7fdd9043dcf8>,\n",
       " 'image_inputs': <keras.engine.topology.InputLayer at 0x7fdd904c2160>,\n",
       " 'multiply_1': <keras.layers.merge.Multiply at 0x7fdd9039c160>,\n",
       " 'q_outputs': <keras.layers.core.Dense at 0x7fdd9036fb38>,\n",
       " 'q_value': <keras.layers.core.Lambda at 0x7fdd903338d0>}"
      ]
     },
     "execution_count": 173,
     "metadata": {},
     "output_type": "execute_result"
    }
   ],
   "source": [
    "layer_dict"
   ]
  },
  {
   "cell_type": "code",
   "execution_count": 175,
   "metadata": {
    "collapsed": true
   },
   "outputs": [],
   "source": [
    "input_img = actor_model.layers[0].input"
   ]
  },
  {
   "cell_type": "code",
   "execution_count": 298,
   "metadata": {
    "collapsed": true
   },
   "outputs": [],
   "source": [
    "cnn_model = Model(inputs=actor_model.layers[0].input,\n",
    "                  outputs = (actor_model.get_layer('conv2d_8').output))\n",
    "\n",
    "features = cnn_model.predict(X_train)"
   ]
  },
  {
   "cell_type": "code",
   "execution_count": 306,
   "metadata": {
    "collapsed": true
   },
   "outputs": [],
   "source": [
    "top_input = Input(cnn_model.output_shape[1:])\n",
    "x = Flatten()(top_input)\n",
    "x = Dense(num_actions, activation='softmax')(x)\n",
    "top_model = Model(top_input, x)\n",
    "top_model.compile(loss='categorical_crossentropy',optimizer='adam',metrics=['accuracy'])"
   ]
  },
  {
   "cell_type": "code",
   "execution_count": 307,
   "metadata": {
    "scrolled": true
   },
   "outputs": [
    {
     "name": "stdout",
     "output_type": "stream",
     "text": [
      "Epoch 1/20\n",
      "60000/60000 [==============================] - 4s 64us/step - loss: 0.5570 - acc: 0.9446\n",
      "Epoch 2/20\n",
      "60000/60000 [==============================] - 3s 49us/step - loss: 0.1498 - acc: 0.9723\n",
      "Epoch 3/20\n",
      "60000/60000 [==============================] - 3s 51us/step - loss: 0.1056 - acc: 0.9766\n",
      "Epoch 4/20\n",
      "60000/60000 [==============================] - 3s 50us/step - loss: 0.0866 - acc: 0.9787\n",
      "Epoch 5/20\n",
      "60000/60000 [==============================] - 3s 51us/step - loss: 0.0759 - acc: 0.9803\n",
      "Epoch 6/20\n",
      "60000/60000 [==============================] - 3s 50us/step - loss: 0.0689 - acc: 0.9811\n",
      "Epoch 7/20\n",
      "60000/60000 [==============================] - 3s 52us/step - loss: 0.0640 - acc: 0.9821\n",
      "Epoch 8/20\n",
      "60000/60000 [==============================] - 3s 50us/step - loss: 0.0604 - acc: 0.9829\n",
      "Epoch 9/20\n",
      "60000/60000 [==============================] - 3s 49us/step - loss: 0.0576 - acc: 0.9835\n",
      "Epoch 10/20\n",
      "60000/60000 [==============================] - 3s 48us/step - loss: 0.0553 - acc: 0.9840\n",
      "Epoch 11/20\n",
      "60000/60000 [==============================] - 3s 48us/step - loss: 0.0535 - acc: 0.9843\n",
      "Epoch 12/20\n",
      "60000/60000 [==============================] - 3s 48us/step - loss: 0.0519 - acc: 0.9849\n",
      "Epoch 13/20\n",
      "60000/60000 [==============================] - 3s 48us/step - loss: 0.0506 - acc: 0.9852\n",
      "Epoch 14/20\n",
      "60000/60000 [==============================] - 3s 48us/step - loss: 0.0493 - acc: 0.9854\n",
      "Epoch 15/20\n",
      "60000/60000 [==============================] - 3s 49us/step - loss: 0.0483 - acc: 0.9857\n",
      "Epoch 16/20\n",
      "60000/60000 [==============================] - 3s 49us/step - loss: 0.0473 - acc: 0.9859\n",
      "Epoch 17/20\n",
      "60000/60000 [==============================] - 3s 49us/step - loss: 0.0464 - acc: 0.9861\n",
      "Epoch 18/20\n",
      "60000/60000 [==============================] - 3s 49us/step - loss: 0.0457 - acc: 0.9863\n",
      "Epoch 19/20\n",
      "60000/60000 [==============================] - 3s 50us/step - loss: 0.0450 - acc: 0.9865\n",
      "Epoch 20/20\n",
      "60000/60000 [==============================] - 3s 49us/step - loss: 0.0443 - acc: 0.9869\n"
     ]
    },
    {
     "data": {
      "text/plain": [
       "<keras.callbacks.History at 0x7fda9d07f2e8>"
      ]
     },
     "execution_count": 307,
     "metadata": {},
     "output_type": "execute_result"
    }
   ],
   "source": [
    "top_model.fit(features, y_train_onehot, epochs=20, batch_size=64)"
   ]
  },
  {
   "cell_type": "code",
   "execution_count": 310,
   "metadata": {},
   "outputs": [
    {
     "name": "stdout",
     "output_type": "stream",
     "text": [
      "60000/60000 [==============================] - 4s 72us/step\n"
     ]
    },
    {
     "data": {
      "text/plain": [
       "[0.043135224707672996, 0.98719999999999997]"
      ]
     },
     "execution_count": 310,
     "metadata": {},
     "output_type": "execute_result"
    }
   ],
   "source": [
    "top_model.evaluate(features, y_train_onehot)"
   ]
  },
  {
   "cell_type": "code",
   "execution_count": 309,
   "metadata": {},
   "outputs": [
    {
     "name": "stdout",
     "output_type": "stream",
     "text": [
      "10000/10000 [==============================] - 1s 126us/step\n"
     ]
    },
    {
     "data": {
      "text/plain": [
       "[0.057014617564086802, 0.9839]"
      ]
     },
     "execution_count": 309,
     "metadata": {},
     "output_type": "execute_result"
    }
   ],
   "source": [
    "top_model.evaluate(cnn_model.predict(X_test), y_test_onehot)"
   ]
  },
  {
   "cell_type": "code",
   "execution_count": 446,
   "metadata": {
    "collapsed": true
   },
   "outputs": [],
   "source": [
    "from keras import backend as K\n",
    "\n",
    "layer_name = 'conv2d_7'\n",
    "filter_index = 0  # can be any integer from 0 to 511, as there are 512 filters in that layer\n",
    "\n",
    "# build a loss function that maximizes the activation\n",
    "# of the nth filter of the layer considered"
   ]
  },
  {
   "cell_type": "code",
   "execution_count": 447,
   "metadata": {},
   "outputs": [
    {
     "name": "stderr",
     "output_type": "stream",
     "text": [
      "100%|██████████| 64/64 [02:42<00:00,  2.54s/it]\n"
     ]
    }
   ],
   "source": [
    "filters_img = []\n",
    "for filter_index in tqdm(range(64)):\n",
    "    input_img_data = np.random.random((1, 28, 28,1))\n",
    "    input_img_data = (input_img_data - 0.5) * 20 + 128\n",
    "    layer_output = layer_dict[layer_name].output\n",
    "    loss = K.mean(layer_output[:, :, :, filter_index])\n",
    "\n",
    "    # compute the gradient of the input picture wrt this loss\n",
    "    grads = K.gradients(loss, input_img)[0]\n",
    "\n",
    "    # normalization trick: we normalize the gradient\n",
    "    grads /= (K.sqrt(K.mean(K.square(grads))) + 1e-5)\n",
    "\n",
    "    # this function returns the loss and grads given the input picture\n",
    "    iterate = K.function([input_img], [loss, grads])\n",
    "    # run gradient ascent for 20 steps\n",
    "    for i in range(512):\n",
    "        loss_value, grads_value = iterate([input_img_data])\n",
    "        input_img_data += grads_value\n",
    "        if loss_value <= 0:\n",
    "            break\n",
    "    if loss_value>0:\n",
    "        img = deprocess_image(input_img_data[0])\n",
    "        filters_img.append((img,loss_value))"
   ]
  },
  {
   "cell_type": "code",
   "execution_count": 448,
   "metadata": {},
   "outputs": [
    {
     "data": {
      "text/plain": [
       "20"
      ]
     },
     "execution_count": 448,
     "metadata": {},
     "output_type": "execute_result"
    }
   ],
   "source": [
    "len(filters_img)"
   ]
  },
  {
   "cell_type": "code",
   "execution_count": 417,
   "metadata": {
    "collapsed": true
   },
   "outputs": [],
   "source": [
    "def deprocess_image(x):\n",
    "    # normalize tensor: center on 0., ensure std is 0.1\n",
    "    x -= x.mean()\n",
    "    x /= (x.std() + 1e-5)\n",
    "    x *= 0.1\n",
    "\n",
    "    # clip to [0, 1]\n",
    "    x += 0.5\n",
    "    x = np.clip(x, 0, 1)\n",
    "\n",
    "    # convert to RGB array\n",
    "    x *= 255\n",
    "    x = np.clip(x, 0, 255).astype('uint8')\n",
    "    \n",
    "    return x\n"
   ]
  },
  {
   "cell_type": "code",
   "execution_count": 452,
   "metadata": {
    "collapsed": true
   },
   "outputs": [],
   "source": [
    "n = 5\n",
    "filters_img.sort(key=lambda x: x[1], reverse=True)\n",
    "filters_img_top = filters_img[:n * n]"
   ]
  },
  {
   "cell_type": "code",
   "execution_count": 453,
   "metadata": {
    "collapsed": true
   },
   "outputs": [],
   "source": [
    "filters_img_top_images,_ = zip(*filters_img_top)"
   ]
  },
  {
   "cell_type": "code",
   "execution_count": 454,
   "metadata": {
    "scrolled": false
   },
   "outputs": [
    {
     "data": {
      "image/png": "[encoded data removed]",
      "text/plain": [
       "<matplotlib.figure.Figure at 0x7fda20ac74a8>"
      ]
     },
     "metadata": {},
     "output_type": "display_data"
    }
   ],
   "source": [
    "fig, axes = plt.subplots(figsize=(8,8), nrows=5, ncols=5, sharey=True, sharex=True)\n",
    "for ax, img in zip(axes.flatten(), filters_img_top_images):\n",
    "    ax.xaxis.set_visible(False)\n",
    "    ax.yaxis.set_visible(False)\n",
    "    #_, img_bin = cv2.threshold(img, 175, 255, cv2.THRESH_BINARY) \n",
    "    im = ax.imshow(img.reshape((28,28)), cmap='gray')"
   ]
  },
  {
   "cell_type": "code",
   "execution_count": null,
   "metadata": {
    "collapsed": true
   },
   "outputs": [],
   "source": []
  }
 ],
 "metadata": {
  "kernelspec": {
   "display_name": "Python 3",
   "language": "python",
   "name": "python3"
  },
  "language_info": {
   "codemirror_mode": {
    "name": "ipython",
    "version": 3
   },
   "file_extension": ".py",
   "mimetype": "text/x-python",
   "name": "python",
   "nbconvert_exporter": "python",
   "pygments_lexer": "ipython3",
   "version": "3.6.2"
  }
 },
 "nbformat": 4,
 "nbformat_minor": 2
}
